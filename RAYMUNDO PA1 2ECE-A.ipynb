{
 "cells": [
  {
   "cell_type": "code",
   "execution_count": 18,
   "id": "f44f3fed-da47-4fdf-b996-518a235a0714",
   "metadata": {},
   "outputs": [
    {
     "name": "stdout",
     "output_type": "stream",
     "text": [
      "ehllo\n",
      "acehkr\n"
     ]
    }
   ],
   "source": [
    "def alphabet_soup(x): #takes a parameter x (string)\n",
    "\n",
    "    m = list(x) #converts input string to a list of characters\n",
    "    m.sort() #sorts characters alphabetically\n",
    "    sorted_string = \"\" #empty string to store results\n",
    "\n",
    "    for z in m: #loops through each iteration/character\n",
    "        sorted_string = sorted_string + z #empty string + current letter z\n",
    "    return sorted_string #returns the final sorted string\n",
    "\n",
    "print(alphabet_soup('hello')) #string \"hello\" will take the place of x\n",
    "print(alphabet_soup('hacker')) #string \"hacker\" will take the place of x\n"
   ]
  },
  {
   "cell_type": "code",
   "execution_count": 1,
   "id": "94083e62-61f9-4d45-8d50-629f373e2b9a",
   "metadata": {},
   "outputs": [
    {
     "name": "stdout",
     "output_type": "stream",
     "text": [
      "You make me :)\n",
      "I am >:(\n",
      "I am so :((\n",
      "You make me :D\n"
     ]
    }
   ],
   "source": [
    "def emoticon(x): #takes a parameter x (string)\n",
    "    \n",
    "    x = x.replace('smile' , ':)') #if the code detects a string \"smile\", it will replace it with :)\n",
    "    \n",
    "    x = x.replace('grin' , ':D') #if the code detects a string \"grin\", it will replace it with :D\n",
    "    \n",
    "    x = x.replace('sad' , ':((') #if the code detects a string \"sad\", it will replace it with :((\n",
    "\n",
    "    x = x.replace('mad' , '>:(') #if the code detects a string \"mad\", it will replace it with >:(\n",
    "\n",
    "    return x #displays x\n",
    "\n",
    "print(emoticon('You make me smile')) #string \"You make me smile\" will take the place of x\n",
    "print(emoticon('I am mad')) #string \"I am mad\" will take the place of x\n",
    "print(emoticon('I am so sad')) #string \"I am so sad\" will take the place of x\n",
    "print(emoticon('You make me grin')) #string \"You make me grin\" will take the place of x\n",
    "    \n"
   ]
  },
  {
   "cell_type": "code",
   "execution_count": 27,
   "id": "116fc96e-bfb2-453c-bd47-dbaccda7a11c",
   "metadata": {},
   "outputs": [
    {
     "name": "stdout",
     "output_type": "stream",
     "text": [
      "first: 1\n",
      "middle: [2, 3, 4, 5]\n",
      "last: 6\n"
     ]
    }
   ],
   "source": [
    "x = [1, 2, 3, 4, 5, 6] #creates a list x that holds the numbers 1,2,3,4,5,6\n",
    "\n",
    "first = x[0] #get the first element using index 0\n",
    "\n",
    "middle = x[1:-1] #get the middle elements using slicing \n",
    "\n",
    "last = x[-1] #get the last element using index -1\n",
    "\n",
    "#print the variables to show the result\n",
    "print(\"first:\", first)\n",
    "print(\"middle:\", middle)\n",
    "print(\"last:\", last)"
   ]
  },
  {
   "cell_type": "code",
   "execution_count": null,
   "id": "e94481a9-b851-4737-8bd3-7bfff571ff71",
   "metadata": {},
   "outputs": [],
   "source": []
  },
  {
   "cell_type": "code",
   "execution_count": null,
   "id": "fa55e831-272f-47a5-aedf-001af977d2ff",
   "metadata": {},
   "outputs": [],
   "source": []
  },
  {
   "cell_type": "code",
   "execution_count": null,
   "id": "34aa86f9-1642-42b9-8b66-38c62ba83614",
   "metadata": {},
   "outputs": [],
   "source": []
  },
  {
   "cell_type": "code",
   "execution_count": null,
   "id": "ea37349a-d307-4795-bb91-41a7b6525e12",
   "metadata": {},
   "outputs": [],
   "source": []
  }
 ],
 "metadata": {
  "kernelspec": {
   "display_name": "Python 3 (ipykernel)",
   "language": "python",
   "name": "python3"
  },
  "language_info": {
   "codemirror_mode": {
    "name": "ipython",
    "version": 3
   },
   "file_extension": ".py",
   "mimetype": "text/x-python",
   "name": "python",
   "nbconvert_exporter": "python",
   "pygments_lexer": "ipython3",
   "version": "3.13.5"
  }
 },
 "nbformat": 4,
 "nbformat_minor": 5
}
